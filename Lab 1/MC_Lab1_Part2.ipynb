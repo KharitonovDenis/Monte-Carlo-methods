{
  "nbformat": 4,
  "nbformat_minor": 0,
  "metadata": {
    "colab": {
      "provenance": []
    },
    "kernelspec": {
      "name": "python3",
      "display_name": "Python 3"
    },
    "language_info": {
      "name": "python"
    }
  },
  "cells": [
    {
      "cell_type": "code",
      "source": [
        "from scipy.stats import uniform, norm, poisson\n",
        "from math import exp, log\n",
        "import numpy as np\n",
        "\n",
        "def simulate_Y(y_minus, y_plus, p):\n",
        "  if uniform.rvs() < p:\n",
        "    return y_minus\n",
        "  return y_plus\n",
        "\n",
        "def simulate_M(N, y_minus, y_plus, p):\n",
        "  if N==0:\n",
        "    return 0\n",
        "  M = 0\n",
        "  for i in range(N):\n",
        "    M += simulate_Y(y_minus, y_plus, p)\n",
        "  return M\n",
        "\n",
        "S0, r, sigma, y_minus, y_plus, p, lmbda, N, n, T, K = [float(x) for x in input().split()]\n",
        "N = int(N)\n",
        "n = int(n)\n",
        "\n",
        "price = 0\n",
        "X0 = log(S0)\n",
        "for simulation_number in range(N):\n",
        "  Delta_X = [0 for i in range(n)]\n",
        "  X = [X0 for i in range(n+1)]\n",
        "  S = [S0 for i in range(n+1)]\n",
        "  for i in range(n):\n",
        "    Delta_X[i] = (r-0.5*sigma**2)*T/n + sigma*((T/n)**0.5)*norm.rvs()+simulate_M(poisson.rvs(lmbda*T/n), y_minus, y_plus, p)\n",
        "  for i in range(1,n+1):\n",
        "    X[i] = X[i-1] + Delta_X[i-1]\n",
        "    S[i] = exp(X[i])\n",
        "  temp = K-np.mean(S[1:n+1])\n",
        "  if temp >= 0:\n",
        "    price += temp\n",
        "\n",
        "price /= (N*exp(r*T))\n",
        "print(price)"
      ],
      "metadata": {
        "colab": {
          "base_uri": "https://localhost:8080/"
        },
        "id": "53nnOHrDDxYt",
        "outputId": "0daf0be0-4b1a-4a63-bd42-30b337b372c6"
      },
      "execution_count": 35,
      "outputs": [
        {
          "output_type": "stream",
          "name": "stdout",
          "text": [
            "100 0.5 1 1 1 0.5 1 10000 1 1 100\n",
            "-779.4320372585544\n"
          ]
        }
      ]
    }
  ]
}