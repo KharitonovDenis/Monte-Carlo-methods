{
  "nbformat": 4,
  "nbformat_minor": 0,
  "metadata": {
    "colab": {
      "provenance": []
    },
    "kernelspec": {
      "name": "python3",
      "display_name": "Python 3"
    },
    "language_info": {
      "name": "python"
    }
  },
  "cells": [
    {
      "cell_type": "code",
      "source": [
        "#Part II\n",
        "\n",
        "from scipy.stats import uniform, norm, poisson\n",
        "from math import exp, log\n",
        "import numpy as np\n",
        "\n",
        "def simulate_Y(y_minus, y_plus, p):\n",
        "  if uniform.rvs() < p:\n",
        "    return y_minus\n",
        "  return y_plus\n",
        "\n",
        "def simulate_M(N, y_minus, y_plus, p):\n",
        "  if N==0:\n",
        "    return 0\n",
        "  M = 0\n",
        "  for i in range(N):\n",
        "    M += simulate_Y(y_minus, y_plus, p)\n",
        "  return M\n",
        "\n",
        "def get_price(S0, r, sigma, y_minus, y_plus, p, lmbda, N, n, T, K):\n",
        "  price = 0\n",
        "  X0 = log(S0)\n",
        "  for simulation_number in range(N):\n",
        "    Delta_X = [0 for i in range(n)]\n",
        "    X = [X0 for i in range(n+1)]\n",
        "    S = [S0 for i in range(n+1)]\n",
        "    for i in range(n):\n",
        "      Delta_X[i] = (r-0.5*sigma**2)*T/n + sigma*((T/n)**0.5)*norm.rvs()+simulate_M(poisson.rvs(lmbda*T/n), y_minus, y_plus, p)\n",
        "    for i in range(1,n+1):\n",
        "      X[i] = X[i-1] + Delta_X[i-1]\n",
        "      S[i] = exp(X[i])\n",
        "    temp = K-np.mean(S[1:n+1])\n",
        "    if  temp >= 0:\n",
        "      price += temp\n",
        "\n",
        "  price /= (N*exp(r*T))\n",
        "  return price"
      ],
      "metadata": {
        "id": "53nnOHrDDxYt"
      },
      "execution_count": 45,
      "outputs": []
    },
    {
      "cell_type": "code",
      "source": [
        "S0 = 100\n",
        "r = 0.2\n",
        "sigma = 0.7\n",
        "y_minus = 0.01\n",
        "y_plus = 1.1\n",
        "p = 0.5\n",
        "lmbda = 1\n",
        "N = 10000\n",
        "T = 10\n",
        "K = 200\n",
        "for n in [1, 2, 5, 10]:\n",
        "  print(f\"({N},{n}): {get_price(S0, r, sigma, y_minus, y_plus, p, lmbda, N, n, T, K)}\")"
      ],
      "metadata": {
        "colab": {
          "base_uri": "https://localhost:8080/"
        },
        "id": "k5tsYWOuT8JG",
        "outputId": "8c63c727-4a60-4e1e-e8f3-775d85f3b9be"
      },
      "execution_count": 71,
      "outputs": [
        {
          "output_type": "stream",
          "name": "stdout",
          "text": [
            "(10000,1): 1.3842022297294125\n",
            "(10000,2): 1.2772519940990557\n",
            "(10000,5): 1.3207006022632262\n",
            "(10000,10): 1.2922303661203987\n"
          ]
        }
      ]
    },
    {
      "cell_type": "code",
      "source": [
        "n = 5\n",
        "for N in [1, 10, 100, 1000, 10000]:\n",
        "  print(f\"({N},{n}): {get_price(S0, r, sigma, y_minus, y_plus, p, lmbda, N, n, T, K)}\")"
      ],
      "metadata": {
        "colab": {
          "base_uri": "https://localhost:8080/"
        },
        "id": "XTWN7RmEWmul",
        "outputId": "88e5884e-e629-426e-e0c8-34b37d83c5d4"
      },
      "execution_count": 74,
      "outputs": [
        {
          "output_type": "stream",
          "name": "stdout",
          "text": [
            "(1,5): 0.0\n",
            "(10,5): 1.7452963152102134\n",
            "(100,5): 1.759157675508086\n",
            "(1000,5): 1.2673127820252401\n",
            "(10000,5): 1.3509112218800303\n"
          ]
        }
      ]
    },
    {
      "cell_type": "code",
      "source": [
        "#Для единоразового ввода параметров с клавиатуры:\n",
        "S0, r, sigma, y_minus, y_plus, p, lmbda, N, n, T, K = [float(x) for x in input().split()]\n",
        "N = int(N)\n",
        "n = int(n)"
      ],
      "metadata": {
        "id": "eaAL0DP9UHAd"
      },
      "execution_count": null,
      "outputs": []
    }
  ]
}